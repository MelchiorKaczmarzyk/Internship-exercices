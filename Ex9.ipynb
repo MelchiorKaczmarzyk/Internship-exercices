{
  "nbformat": 4,
  "nbformat_minor": 0,
  "metadata": {
    "colab": {
      "provenance": [],
      "authorship_tag": "ABX9TyPVGUKG4DlqRoIJUTBbKXc0",
      "include_colab_link": true
    },
    "kernelspec": {
      "name": "python3",
      "display_name": "Python 3"
    },
    "language_info": {
      "name": "python"
    }
  },
  "cells": [
    {
      "cell_type": "markdown",
      "metadata": {
        "id": "view-in-github",
        "colab_type": "text"
      },
      "source": [
        "<a href=\"https://colab.research.google.com/github/MelchiorKaczmarzyk/Internship-exercices/blob/main/Ex9.ipynb\" target=\"_parent\"><img src=\"https://colab.research.google.com/assets/colab-badge.svg\" alt=\"Open In Colab\"/></a>"
      ]
    },
    {
      "cell_type": "code",
      "execution_count": 3,
      "metadata": {
        "colab": {
          "base_uri": "https://localhost:8080/"
        },
        "id": "qSP4jRcl_Oxb",
        "outputId": "2d551a8f-51a9-4779-b243-ba60b3228916"
      },
      "outputs": [
        {
          "output_type": "stream",
          "name": "stdout",
          "text": [
            "   weight weight_cut\n",
            "0    75.0   (60, 75]\n",
            "1    78.5   (75, 80]\n",
            "2    85.0   (80, 95]\n",
            "3    91.0   (80, 95]\n",
            "4    84.5   (80, 95]\n",
            "5    83.0   (80, 95]\n",
            "6    68.0   (60, 75]\n"
          ]
        }
      ],
      "source": [
        "import pandas as pd\n",
        "\n",
        "\n",
        "df = pd.DataFrame(data={'weight': [75., 78.5, 85., 91., 84.5, 83., 68.]})\n",
        "df['weight_cut'] = pd.cut(df['weight'], bins=(60, 75, 80, 95))\n",
        "print(df)"
      ]
    }
  ]
}