{
  "nbformat": 4,
  "nbformat_minor": 0,
  "metadata": {
    "colab": {
      "provenance": [],
      "authorship_tag": "ABX9TyP8X2JOn/vfxvYudS9MvRdY",
      "include_colab_link": true
    },
    "kernelspec": {
      "name": "python3",
      "display_name": "Python 3"
    },
    "language_info": {
      "name": "python"
    }
  },
  "cells": [
    {
      "cell_type": "markdown",
      "metadata": {
        "id": "view-in-github",
        "colab_type": "text"
      },
      "source": [
        "<a href=\"https://colab.research.google.com/github/MelchiorKaczmarzyk/Internship-exercices/blob/main/Ex_71_80.ipynb\" target=\"_parent\"><img src=\"https://colab.research.google.com/assets/colab-badge.svg\" alt=\"Open In Colab\"/></a>"
      ]
    },
    {
      "cell_type": "markdown",
      "source": [
        "###Ex 71"
      ],
      "metadata": {
        "id": "5KTTFLa1pQKV"
      }
    },
    {
      "cell_type": "code",
      "execution_count": null,
      "metadata": {
        "id": "7tbK9SVLpPhq"
      },
      "outputs": [],
      "source": [
        "import numpy as np\n",
        "import pandas as pd\n",
        "\n",
        "from sklearn.preprocessing import StandardScaler\n",
        "from sklearn.decomposition import PCA\n",
        "\n",
        "\n",
        "df = pd.read_csv('pca.csv')\n",
        "data = df.values\n",
        "\n",
        "scaler = StandardScaler()\n",
        "data_std = scaler.fit_transform(data)\n",
        "\n",
        "pca = PCA(n_components=3)\n",
        "data_pca = pca.fit_transform(data_std)\n",
        "\n",
        "results = pd.DataFrame(\n",
        "    data={'explained_variance_ratio': pca.explained_variance_ratio_}\n",
        ")\n",
        "results['cumulative'] = results['explained_variance_ratio'].cumsum()\n",
        "results['component'] = results.index + 1\n",
        "print(results)"
      ]
    },
    {
      "cell_type": "markdown",
      "source": [
        "###Ex 72"
      ],
      "metadata": {
        "id": "Cy3P6n51paPs"
      }
    },
    {
      "cell_type": "code",
      "source": [
        "import numpy as np\n",
        "import pandas as pd\n",
        "\n",
        "from sklearn.preprocessing import StandardScaler\n",
        "from sklearn.decomposition import PCA\n",
        "\n",
        "df = pd.read_csv('pca.csv')\n",
        "data = df.values\n",
        "\n",
        "scaler = StandardScaler()\n",
        "data_std = scaler.fit_transform(data)\n",
        "\n",
        "#My solution\n",
        "for i in range(1000):\n",
        "  pca = PCA(n_components= i)\n",
        "  x = pca.explained_variance_ratio_\n",
        "  if x >= 0.95:\n",
        "    break\n",
        "print(i)\n",
        "\n",
        "#Official solution\n",
        "pca = PCA(n_components=0.95)\n",
        "data_pca = pca.fit_transform(data_std)\n",
        "\n",
        "print(f'Liczba komponentów: {pca.n_components_}')"
      ],
      "metadata": {
        "id": "77Ru3l5XpbIA"
      },
      "execution_count": null,
      "outputs": []
    },
    {
      "cell_type": "markdown",
      "source": [
        "###Ex 73"
      ],
      "metadata": {
        "id": "tiNgq9Z9pbRI"
      }
    },
    {
      "cell_type": "code",
      "source": [
        "import numpy as np\n",
        "import pandas as pd\n",
        "\n",
        "\n",
        "data = {\n",
        "    'products': [\n",
        "        'bread eggs',\n",
        "        'bread eggs milk',\n",
        "        'milk cheese',\n",
        "        'bread butter cheese',\n",
        "        'eggs milk',\n",
        "        'bread milk butter cheese',\n",
        "    ]\n",
        "}\n",
        "\n",
        "transactions = pd.DataFrame(data=data, index=range(1, 7))\n",
        "expanded = transactions['products'].str.split(pat=' ', expand=True)\n",
        "print(expanded)"
      ],
      "metadata": {
        "colab": {
          "base_uri": "https://localhost:8080/"
        },
        "id": "yTl56Phopb1l",
        "outputId": "fe8e1a3c-fdfe-4f5a-acae-14fcfc346e9f"
      },
      "execution_count": 1,
      "outputs": [
        {
          "output_type": "stream",
          "name": "stdout",
          "text": [
            "       0       1       2       3\n",
            "1  bread    eggs    None    None\n",
            "2  bread    eggs    milk    None\n",
            "3   milk  cheese    None    None\n",
            "4  bread  butter  cheese    None\n",
            "5   eggs    milk    None    None\n",
            "6  bread    milk  butter  cheese\n"
          ]
        }
      ]
    },
    {
      "cell_type": "markdown",
      "source": [
        "###Ex 74"
      ],
      "metadata": {
        "id": "8MVLS8U9pb9r"
      }
    },
    {
      "cell_type": "code",
      "source": [
        "import numpy as np\n",
        "import pandas as pd\n",
        "\n",
        "\n",
        "data = {\n",
        "    'products': [\n",
        "        'bread eggs',\n",
        "        'bread eggs milk',\n",
        "        'milk cheese',\n",
        "        'bread butter cheese',\n",
        "        'eggs milk',\n",
        "        'bread milk butter cheese',\n",
        "    ]\n",
        "}\n",
        "\n",
        "transactions = pd.DataFrame(data=data, index=range(1, 7))\n",
        "expanded = transactions['products'].str.split(expand=True)\n",
        "\n",
        "products = []\n",
        "for col in expanded.columns:\n",
        "    for product in expanded[col].unique():\n",
        "        if product is not None and product not in products:\n",
        "            products.append(product)\n",
        "\n",
        "products.sort()\n",
        "print(products)"
      ],
      "metadata": {
        "colab": {
          "base_uri": "https://localhost:8080/"
        },
        "id": "ohQpK3gZpcnD",
        "outputId": "27c11ed4-7e5c-41f7-e2cf-cd12f1d63326"
      },
      "execution_count": 5,
      "outputs": [
        {
          "output_type": "stream",
          "name": "stdout",
          "text": [
            "       0       1       2       3\n",
            "1  bread    eggs    None    None\n",
            "2  bread    eggs    milk    None\n",
            "3   milk  cheese    None    None\n",
            "4  bread  butter  cheese    None\n",
            "5   eggs    milk    None    None\n",
            "6  bread    milk  butter  cheese\n"
          ]
        }
      ]
    },
    {
      "cell_type": "markdown",
      "source": [
        "###Ex 75"
      ],
      "metadata": {
        "id": "L6tGEoCnpcvd"
      }
    },
    {
      "cell_type": "code",
      "source": [
        "import numpy as np\n",
        "import pandas as pd\n",
        "\n",
        "\n",
        "data = {\n",
        "    'products': [\n",
        "        'bread eggs',\n",
        "        'bread eggs milk',\n",
        "        'milk cheese',\n",
        "        'bread butter cheese',\n",
        "        'eggs milk',\n",
        "        'bread milk butter cheese',\n",
        "    ]\n",
        "}\n",
        "\n",
        "transactions = pd.DataFrame(data=data, index=range(1, 7))\n",
        "expanded = transactions['products'].str.split(expand=True)\n",
        "\n",
        "products = []\n",
        "for col in expanded.columns:\n",
        "    for product in expanded[col].unique():\n",
        "        if product is not None and product not in products:\n",
        "            products.append(product)\n",
        "\n",
        "products.sort()\n",
        "\n",
        "transactions_encoded = np.zeros(\n",
        "    (len(transactions), len(products)), dtype='int8'\n",
        ")\n",
        "\n",
        "for row in zip(\n",
        "    range(len(transactions)), transactions_encoded, expanded.values\n",
        "):\n",
        "    for idx, product in enumerate(products):\n",
        "        if product in row[2]:\n",
        "            transactions_encoded[row[0], idx] = 1\n",
        "\n",
        "transactions_encoded_df = pd.DataFrame(\n",
        "    transactions_encoded, columns=products\n",
        ")\n",
        "print(transactions_encoded_df)"
      ],
      "metadata": {
        "colab": {
          "base_uri": "https://localhost:8080/"
        },
        "id": "DauXTC74pdw4",
        "outputId": "f6158698-5952-4d5f-ffdc-e07b05e0077e"
      },
      "execution_count": 3,
      "outputs": [
        {
          "output_type": "stream",
          "name": "stdout",
          "text": [
            "   bread  butter  cheese  eggs  milk\n",
            "0      1       0       0     1     0\n",
            "1      1       0       0     1     1\n",
            "2      0       0       1     0     1\n",
            "3      1       1       1     0     0\n",
            "4      0       0       0     1     1\n",
            "5      1       1       1     0     1\n"
          ]
        }
      ]
    },
    {
      "cell_type": "markdown",
      "source": [
        "###Ex 76"
      ],
      "metadata": {
        "id": "SeIsG080pd5-"
      }
    },
    {
      "cell_type": "code",
      "source": [
        "import numpy as np\n",
        "import pandas as pd\n",
        "\n",
        "\n",
        "data = {\n",
        "    'products': [\n",
        "        'bread eggs',\n",
        "        'bread eggs milk',\n",
        "        'milk cheese',\n",
        "        'bread butter cheese',\n",
        "        'eggs milk',\n",
        "        'bread milk butter cheese',\n",
        "    ]\n",
        "}\n",
        "\n",
        "transactions = pd.DataFrame(data=data, index=range(1, 7))\n",
        "expanded = transactions['products'].str.split(expand=True)\n",
        "\n",
        "products = []\n",
        "for col in expanded.columns:\n",
        "    for product in expanded[col].unique():\n",
        "        if product is not None and product not in products:\n",
        "            products.append(product)\n",
        "products.sort()\n",
        "\n",
        "transactions_encoded = np.zeros(\n",
        "    (len(transactions), len(products)), dtype='int8'\n",
        ")\n",
        "\n",
        "for row in zip(\n",
        "    range(len(transactions)), transactions_encoded, expanded.values\n",
        "):\n",
        "    for idx, product in enumerate(products):\n",
        "        if product in row[2]:\n",
        "            transactions_encoded[row[0], idx] = 1\n",
        "transactions_encoded_df = pd.DataFrame(\n",
        "    transactions_encoded, columns=products\n",
        ")\n",
        "\n",
        "support = transactions_encoded_df.sum() / len(transactions_encoded_df)\n",
        "print(support)\n"
      ],
      "metadata": {
        "colab": {
          "base_uri": "https://localhost:8080/"
        },
        "id": "bg-BjeVCpeqR",
        "outputId": "2ed05be6-bbba-4d36-e1a9-11e092633170"
      },
      "execution_count": 4,
      "outputs": [
        {
          "output_type": "stream",
          "name": "stdout",
          "text": [
            "bread     0.666667\n",
            "butter    0.333333\n",
            "cheese    0.500000\n",
            "eggs      0.500000\n",
            "milk      0.666667\n",
            "dtype: float64\n"
          ]
        }
      ]
    },
    {
      "cell_type": "markdown",
      "source": [
        "###Ex 77"
      ],
      "metadata": {
        "id": "yWDW7wuMpey4"
      }
    },
    {
      "cell_type": "code",
      "source": [
        "import numpy as np\n",
        "import pandas as pd\n",
        "\n",
        "\n",
        "data = {\n",
        "    'products': [\n",
        "        'bread eggs',\n",
        "        'bread eggs milk',\n",
        "        'milk cheese',\n",
        "        'bread butter cheese',\n",
        "        'eggs milk',\n",
        "        'bread milk butter cheese',\n",
        "    ]\n",
        "}\n",
        "\n",
        "transactions = pd.DataFrame(data=data, index=range(1, 7))\n",
        "expanded = transactions['products'].str.split(expand=True)\n",
        "\n",
        "products = []\n",
        "for col in expanded.columns:\n",
        "    for product in expanded[col].unique():\n",
        "        if product is not None and product not in products:\n",
        "            products.append(product)\n",
        "products.sort()\n",
        "\n",
        "transactions_encoded = np.zeros(\n",
        "    (len(transactions), len(products)), dtype='int8'\n",
        ")\n",
        "\n",
        "for row in zip(\n",
        "    range(len(transactions)), transactions_encoded, expanded.values\n",
        "):\n",
        "    for idx, product in enumerate(products):\n",
        "        if product in row[2]:\n",
        "            transactions_encoded[row[0], idx] = 1\n",
        "transactions_encoded_df = pd.DataFrame(\n",
        "    transactions_encoded, columns=products\n",
        ")\n",
        "#My solution\n",
        "count1 = 0\n",
        "count2 = 0\n",
        "for i in range(0, len(transactions_encoded_df-1)):\n",
        "  if transactions_encoded_df['bread'].loc[transactions_encoded_df.index[i]] == 1 and transactions_encoded_df['butter'].loc[transactions_encoded_df.index[i]] == 1:\n",
        "    count1 = count1 + 1\n",
        "  if transactions_encoded_df['milk'].loc[transactions_encoded_df.index[i]] == 1 and transactions_encoded_df['butter'].loc[transactions_encoded_df.index[i]] == 1:\n",
        "    count2 = count2 + 1\n",
        "supp1 = count1/len(transactions_encoded_df)\n",
        "supp2 = count2/len(transactions_encoded_df)\n",
        "print(f'support(butter, bread) = {supp1:.4f}')\n",
        "print(f'support(butter, milk) = {supp2:.4f}')\n",
        "\n",
        "#Official solution\n",
        "sup_butter_bread = len(\n",
        "    transactions_encoded_df.query(\"butter == 1 and bread == 1\")\n",
        ") / len(transactions_encoded_df)\n",
        "sup_butter_milk = len(\n",
        "    transactions_encoded_df.query(\"butter == 1 and milk == 1\")\n",
        ") / len(transactions_encoded_df)\n",
        "\n",
        "print(f'support(butter, bread) = {sup_butter_bread:.4f}')\n",
        "print(f'support(butter, milk) = {sup_butter_milk:.4f}')"
      ],
      "metadata": {
        "colab": {
          "base_uri": "https://localhost:8080/"
        },
        "id": "2OX8i8LbpfdA",
        "outputId": "e2de65c6-30b7-4192-825d-7d375e024c59"
      },
      "execution_count": 5,
      "outputs": [
        {
          "output_type": "stream",
          "name": "stdout",
          "text": [
            "0.3333333333333333\n",
            "0.16666666666666666\n"
          ]
        }
      ]
    },
    {
      "cell_type": "markdown",
      "source": [
        "###Ex 78"
      ],
      "metadata": {
        "id": "d-59-1-spfi-"
      }
    },
    {
      "cell_type": "code",
      "source": [
        "import numpy as np\n",
        "import pandas as pd\n",
        "\n",
        "\n",
        "data = {\n",
        "    'products': [\n",
        "        'bread eggs',\n",
        "        'bread eggs milk',\n",
        "        'milk cheese',\n",
        "        'bread butter cheese',\n",
        "        'eggs milk',\n",
        "        'bread milk butter cheese',\n",
        "    ]\n",
        "}\n",
        "\n",
        "transactions = pd.DataFrame(data=data, index=range(1, 7))\n",
        "expanded = transactions['products'].str.split(expand=True)\n",
        "\n",
        "products = []\n",
        "for col in expanded.columns:\n",
        "    for product in expanded[col].unique():\n",
        "        if product is not None and product not in products:\n",
        "            products.append(product)\n",
        "products.sort()\n",
        "\n",
        "transactions_encoded = np.zeros(\n",
        "    (len(transactions), len(products)), dtype='int8'\n",
        ")\n",
        "\n",
        "for row in zip(\n",
        "    range(len(transactions)), transactions_encoded, expanded.values\n",
        "):\n",
        "    for idx, product in enumerate(products):\n",
        "        if product in row[2]:\n",
        "            transactions_encoded[row[0], idx] = 1\n",
        "transactions_encoded_df = pd.DataFrame(\n",
        "    transactions_encoded, columns=products\n",
        ")\n",
        "\n",
        "conf_cheese_bread = len(\n",
        "    transactions_encoded_df.query(\"cheese == 1 and bread == 1\")\n",
        ") / len(transactions_encoded_df.query('cheese == 1'))\n",
        "\n",
        "conf_butter_cheese = len(\n",
        "    transactions_encoded_df.query(\"butter == 1 and cheese == 1\")\n",
        ") / len(transactions_encoded_df.query('butter == 1'))\n",
        "\n",
        "print(f'conf(cheese, bread) = {conf_cheese_bread:.4f}')\n",
        "print(f'conf(butter, cheese) = {conf_butter_cheese:.4f}')"
      ],
      "metadata": {
        "colab": {
          "base_uri": "https://localhost:8080/"
        },
        "id": "eVmvk0BGpgO5",
        "outputId": "0e29d7fd-860b-412a-8aed-130ba673dfac"
      },
      "execution_count": 9,
      "outputs": [
        {
          "output_type": "stream",
          "name": "stdout",
          "text": [
            "conf(cheese, bread) = 0.6667\n",
            "conf(butter, cheese) = 1.0000\n"
          ]
        }
      ]
    },
    {
      "cell_type": "markdown",
      "source": [
        "###Ex 79"
      ],
      "metadata": {
        "id": "__1yNUsmpgYL"
      }
    },
    {
      "cell_type": "code",
      "source": [
        "import numpy as np\n",
        "import pandas as pd\n",
        "from sklearn.neighbors import LocalOutlierFactor\n",
        "\n",
        "\n",
        "np.random.seed(42)\n",
        "\n",
        "df = pd.read_csv('blobs.csv')\n",
        "\n",
        "outlierFactor = LocalOutlierFactor(n_neighbors=20)\n",
        "df['lof'] = outlierFactor.fit_predict(df)\n",
        "print(df.head(10))"
      ],
      "metadata": {
        "id": "TKEG--ruphCY"
      },
      "execution_count": null,
      "outputs": []
    },
    {
      "cell_type": "markdown",
      "source": [
        "###Ex 80"
      ],
      "metadata": {
        "id": "zSyrzlOnphKI"
      }
    },
    {
      "cell_type": "code",
      "source": [
        "import numpy as np\n",
        "import pandas as pd\n",
        "from sklearn.neighbors import LocalOutlierFactor\n",
        "\n",
        "\n",
        "np.random.seed(42)\n",
        "\n",
        "df = pd.read_csv('blobs.csv')\n",
        "\n",
        "outlierFactor = LocalOutlierFactor(n_neighbors=20)\n",
        "df['lof'] = outlierFactor.fit_predict(df)\n",
        "print(df['lof'].value_counts())"
      ],
      "metadata": {
        "id": "gkgiHMRrpiaW"
      },
      "execution_count": 10,
      "outputs": []
    }
  ]
}