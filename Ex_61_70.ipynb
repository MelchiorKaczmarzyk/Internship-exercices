{
  "nbformat": 4,
  "nbformat_minor": 0,
  "metadata": {
    "colab": {
      "provenance": [],
      "authorship_tag": "ABX9TyOcKCbxqcSgMLRDSOAAyVhD",
      "include_colab_link": true
    },
    "kernelspec": {
      "name": "python3",
      "display_name": "Python 3"
    },
    "language_info": {
      "name": "python"
    }
  },
  "cells": [
    {
      "cell_type": "markdown",
      "metadata": {
        "id": "view-in-github",
        "colab_type": "text"
      },
      "source": [
        "<a href=\"https://colab.research.google.com/github/MelchiorKaczmarzyk/Internship-exercices/blob/main/Ex_61_70.ipynb\" target=\"_parent\"><img src=\"https://colab.research.google.com/assets/colab-badge.svg\" alt=\"Open In Colab\"/></a>"
      ]
    },
    {
      "cell_type": "markdown",
      "source": [
        "###Ex 61"
      ],
      "metadata": {
        "id": "XIOj5r9mVMPz"
      }
    },
    {
      "cell_type": "code",
      "execution_count": null,
      "metadata": {
        "id": "D0v_wl7JVJjD"
      },
      "outputs": [],
      "source": [
        "import numpy as np\n",
        "import pandas as pd\n",
        "from sklearn.cluster import KMeans\n",
        "\n",
        "\n",
        "np.random.seed(42)\n",
        "df = pd.read_csv('clusters.csv')\n",
        "\n",
        "wcss = []\n",
        "for i in range(2, 10):\n",
        "    kmeans = KMeans(n_clusters=i, random_state=42)\n",
        "    kmeans.fit(df)\n",
        "    wcss.append(round(kmeans.inertia_, 2))\n",
        "print(wcss)"
      ]
    },
    {
      "cell_type": "markdown",
      "source": [
        "###Ex 62"
      ],
      "metadata": {
        "id": "2fuw7_EpVSAJ"
      }
    },
    {
      "cell_type": "code",
      "source": [
        "\"\"\"\n",
        "????????\n",
        "\"\"\""
      ],
      "metadata": {
        "id": "XgQha51AVSOm"
      },
      "execution_count": null,
      "outputs": []
    },
    {
      "cell_type": "markdown",
      "source": [
        "###Ex 63"
      ],
      "metadata": {
        "id": "RoeccEuHVTq9"
      }
    },
    {
      "cell_type": "code",
      "source": [
        "import numpy as np\n",
        "import pandas as pd\n",
        "from sklearn.cluster import AgglomerativeClustering\n",
        "\n",
        "df = pd.read_csv('clusters.csv')\n",
        "model = AgglomerativeClustering(n_clusters=2)\n",
        "model.fit_predict(df)\n",
        "df['cluster'] = model.labels_\n",
        "\n",
        "\n",
        "print(df.head(10))"
      ],
      "metadata": {
        "id": "XFdmJEODVT16"
      },
      "execution_count": null,
      "outputs": []
    },
    {
      "cell_type": "markdown",
      "source": [
        "###Ex 64\n"
      ],
      "metadata": {
        "id": "AyXhJCYBVVi7"
      }
    },
    {
      "cell_type": "code",
      "source": [
        "import numpy as np\n",
        "import pandas as pd\n",
        "from sklearn.cluster import AgglomerativeClustering\n",
        "\n",
        "df = pd.read_csv('clusters.csv')\n",
        "model = AgglomerativeClustering(affinity='manhattan', n_clusters=2, linkage='complete')\n",
        "model.fit_predict(df)\n",
        "df['cluster'] = model.labels_\n",
        "\n",
        "\n",
        "print(df.head(10))"
      ],
      "metadata": {
        "id": "uzl4evuiVXHL"
      },
      "execution_count": null,
      "outputs": []
    },
    {
      "cell_type": "markdown",
      "source": [
        "###Ex 65"
      ],
      "metadata": {
        "id": "WQCwXZPZVXgO"
      }
    },
    {
      "cell_type": "code",
      "source": [
        "import numpy as np\n",
        "import pandas as pd\n",
        "from sklearn.cluster import DBSCAN\n",
        "\n",
        "df = pd.read_csv('clusters.csv')\n",
        "\n",
        "model = DBSCAN(eps=0.6, min_samples=7)\n",
        "model.fit(df)\n",
        "df['cluster'] = model.labels_\n",
        "print(df.head(10))"
      ],
      "metadata": {
        "id": "tXvDlilDVYQL"
      },
      "execution_count": null,
      "outputs": []
    },
    {
      "cell_type": "markdown",
      "source": [
        "###Ex 66"
      ],
      "metadata": {
        "id": "kzLZ7xrYVYb1"
      }
    },
    {
      "cell_type": "code",
      "source": [
        "import numpy as np\n",
        "import pandas as pd\n",
        "from sklearn.cluster import DBSCAN\n",
        "\n",
        "df = pd.read_csv('clusters.csv')\n",
        "\n",
        "model = DBSCAN(eps=0.6, min_samples=7)\n",
        "model.fit(df)\n",
        "df['cluster'] = model.labels_\n",
        "\n",
        "print(df.cluster.value_counts())"
      ],
      "metadata": {
        "id": "bpqzCNfmVZD7"
      },
      "execution_count": null,
      "outputs": []
    },
    {
      "cell_type": "markdown",
      "source": [
        "###Ex 67"
      ],
      "metadata": {
        "id": "KP4XfrBxVZmH"
      }
    },
    {
      "cell_type": "code",
      "source": [
        "import numpy as np\n",
        "import pandas as pd\n",
        "from sklearn.preprocessing import StandardScaler\n",
        "\n",
        "\n",
        "np.random.seed(42)\n",
        "df = pd.read_csv('pca.csv')\n",
        "\n",
        "X = df.copy()\n",
        "y = X.pop('class')\n",
        "\n",
        "scaler = StandardScaler()\n",
        "X_std = scaler.fit_transform(X)\n",
        "print(X_std[:10])"
      ],
      "metadata": {
        "id": "rICiyWoLVaV9"
      },
      "execution_count": null,
      "outputs": []
    },
    {
      "cell_type": "markdown",
      "source": [
        "###Ex 68"
      ],
      "metadata": {
        "id": "kPpFNULSVagW"
      }
    },
    {
      "cell_type": "code",
      "source": [
        "import numpy as np\n",
        "import pandas as pd\n",
        "from sklearn.preprocessing import StandardScaler\n",
        "\n",
        "\n",
        "np.set_printoptions(\n",
        "    precision=8, suppress=True, edgeitems=5, linewidth=200\n",
        ")\n",
        "np.random.seed(42)\n",
        "df = pd.read_csv('pca.csv')\n",
        "\n",
        "X = df.copy()\n",
        "y = X.pop('class')\n",
        "\n",
        "scaler = StandardScaler()\n",
        "X_std = scaler.fit_transform(X)\n",
        "\n",
        "eig_vals, eig_vecs = np.linalg.eig(np.cov(X_std, rowvar=False))\n",
        "eig_pairs = [\n",
        "    (np.abs(eig_vals[i]), eig_vecs[:, i])\n",
        "    for i in range(len(eig_vals))\n",
        "]\n",
        "eig_pairs.sort(reverse=True)\n",
        "\n",
        "W = np.hstack(\n",
        "    (eig_pairs[0][1].reshape(3, 1), eig_pairs[1][1].reshape(3, 1))\n",
        ")\n",
        "X_pca = X_std.dot(W)\n",
        "print(X_pca[:10])"
      ],
      "metadata": {
        "id": "lxr4hx4WVbWX"
      },
      "execution_count": null,
      "outputs": []
    },
    {
      "cell_type": "markdown",
      "source": [
        "###Ex 69"
      ],
      "metadata": {
        "id": "SCtRCEM4Vbe3"
      }
    },
    {
      "cell_type": "code",
      "source": [
        "import numpy as np\n",
        "import pandas as pd\n",
        "from sklearn.preprocessing import StandardScaler\n",
        "\n",
        "\n",
        "np.set_printoptions(\n",
        "    precision=8, suppress=True, edgeitems=5, linewidth=200\n",
        ")\n",
        "np.random.seed(42)\n",
        "df = pd.read_csv('pca.csv')\n",
        "\n",
        "X = df.copy()\n",
        "y = X.pop('class')\n",
        "\n",
        "scaler = StandardScaler()\n",
        "X_std = scaler.fit_transform(X)\n",
        "\n",
        "eig_vals, eig_vecs = np.linalg.eig(np.cov(X_std, rowvar=False))\n",
        "eig_pairs = [\n",
        "    (np.abs(eig_vals[i]), eig_vecs[:, i])\n",
        "    for i in range(len(eig_vals))\n",
        "]\n",
        "eig_pairs.sort(reverse=True)\n",
        "\n",
        "W = np.hstack(\n",
        "    (eig_pairs[0][1].reshape(3, 1), eig_pairs[1][1].reshape(3, 1))\n",
        ")\n",
        "X_pca = X_std.dot(W)\n",
        "\n",
        "df_pca = pd.DataFrame(data=X_pca, columns=['pca_1', 'pca_2'])\n",
        "df_pca['class'] = df['class']\n",
        "df_pca['pca_2'] = -df_pca['pca_2']\n",
        "print(df_pca.head(10))"
      ],
      "metadata": {
        "id": "pw7oi-DNVcLF"
      },
      "execution_count": null,
      "outputs": []
    },
    {
      "cell_type": "markdown",
      "source": [
        "###Ex 70"
      ],
      "metadata": {
        "id": "eN5Gv4RFVcU9"
      }
    },
    {
      "cell_type": "code",
      "source": [
        "import numpy as np\n",
        "import pandas as pd\n",
        "from sklearn.preprocessing import StandardScaler\n",
        "from sklearn.decomposition import PCA\n",
        "\n",
        "\n",
        "np.set_printoptions(\n",
        "    precision=8, suppress=True, edgeitems=5, linewidth=200\n",
        ")\n",
        "np.random.seed(42)\n",
        "df = pd.read_csv('pca.csv')\n",
        "\n",
        "X = df.copy()\n",
        "y = X.pop('class')\n",
        "\n",
        "scaler = StandardScaler()\n",
        "X_std = scaler.fit_transform(X)\n",
        "pca = PCA(components=2)\n",
        "X_std = pca.fit_transform(X_std)\n",
        "df_pca = pd.DataFrame(data=X_pca, columns=['pca_1', 'pca_2'])\n",
        "df_pca['class'] = df['class']\n",
        "print(df_pca.head(10))"
      ],
      "metadata": {
        "id": "FwQgBDB-VeEq"
      },
      "execution_count": null,
      "outputs": []
    }
  ]
}