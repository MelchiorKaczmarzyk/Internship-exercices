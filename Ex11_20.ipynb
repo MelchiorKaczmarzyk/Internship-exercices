{
  "nbformat": 4,
  "nbformat_minor": 0,
  "metadata": {
    "colab": {
      "provenance": [],
      "authorship_tag": "ABX9TyPcsEliKe8ExufqJGGQDjNh",
      "include_colab_link": true
    },
    "kernelspec": {
      "name": "python3",
      "display_name": "Python 3"
    },
    "language_info": {
      "name": "python"
    }
  },
  "cells": [
    {
      "cell_type": "markdown",
      "metadata": {
        "id": "view-in-github",
        "colab_type": "text"
      },
      "source": [
        "<a href=\"https://colab.research.google.com/github/MelchiorKaczmarzyk/Internship-exercices/blob/main/Ex11_20.ipynb\" target=\"_parent\"><img src=\"https://colab.research.google.com/assets/colab-badge.svg\" alt=\"Open In Colab\"/></a>"
      ]
    },
    {
      "cell_type": "markdown",
      "source": [
        "###Ex 11"
      ],
      "metadata": {
        "id": "iPl51dVxDxgR"
      }
    },
    {
      "cell_type": "code",
      "execution_count": 193,
      "metadata": {
        "colab": {
          "base_uri": "https://localhost:8080/"
        },
        "id": "U-CP83CgC5hk",
        "outputId": "86b125ff-8776-461c-baf7-3d8c0a959bf1"
      },
      "outputs": [
        {
          "output_type": "stream",
          "name": "stdout",
          "text": [
            "   weight  weight_cut_light  weight_cut_normal  weight_cut_heavy\n",
            "0    75.0              True              False             False\n",
            "1    78.5             False               True             False\n",
            "2    85.0             False              False              True\n",
            "3    91.0             False              False              True\n",
            "4    84.5             False              False              True\n",
            "5    83.0             False              False              True\n",
            "6    68.0              True              False             False\n"
          ]
        }
      ],
      "source": [
        "import pandas as pd\n",
        "\n",
        "\n",
        "df = pd.DataFrame(\n",
        "    data={'weight': [75.0, 78.5, 85.0, 91.0, 84.5, 83.0, 68.0]}\n",
        ")\n",
        "df['weight_cut'] = pd.cut(\n",
        "    df['weight'],\n",
        "    bins=(60, 75, 80, 95),\n",
        "    labels=['light', 'normal', 'heavy'],\n",
        ")\n",
        "df = pd.get_dummies(df)\n",
        "print(df)"
      ]
    },
    {
      "cell_type": "markdown",
      "source": [
        "###Ex 12"
      ],
      "metadata": {
        "id": "JxmmRm9tEijy"
      }
    },
    {
      "cell_type": "code",
      "source": [
        "import pandas as pd\n",
        "\n",
        "\n",
        "data_dict = {\n",
        "    'currency': [\n",
        "        ['PLN', 'USD'],\n",
        "        ['EUR', 'USD', 'PLN', 'CAD'],\n",
        "        ['GBP'],\n",
        "        ['JPY', 'CZK', 'HUF'],\n",
        "        [],\n",
        "    ]\n",
        "}\n",
        "df = pd.DataFrame(data=data_dict)\n",
        "#apply() jest ważne, aplikuje daną funkcję do każdego elementu w kolumnie\n",
        "df['number'] = df['currency'].apply(len)\n",
        "print(df)"
      ],
      "metadata": {
        "colab": {
          "base_uri": "https://localhost:8080/"
        },
        "id": "Re44lwgtEiBQ",
        "outputId": "6b507f7d-578c-4954-db81-1d38404a0935"
      },
      "execution_count": 194,
      "outputs": [
        {
          "output_type": "stream",
          "name": "stdout",
          "text": [
            "               currency  number\n",
            "0            [PLN, USD]       2\n",
            "1  [EUR, USD, PLN, CAD]       4\n",
            "2                 [GBP]       1\n",
            "3       [JPY, CZK, HUF]       3\n",
            "4                    []       0\n"
          ]
        }
      ]
    },
    {
      "cell_type": "markdown",
      "source": [
        "###Ex 13"
      ],
      "metadata": {
        "id": "S_LlMQ1iGGT_"
      }
    },
    {
      "cell_type": "code",
      "source": [
        "import pandas as pd\n",
        "\n",
        "#Moja funkcja\n",
        "def myFunction (array) :\n",
        "  for x in array:\n",
        "    if x== array.count == 0:\n",
        "      return 0\n",
        "    if x=='PLN':\n",
        "      return 1\n",
        "    else:\n",
        "      return 0\n",
        "\n",
        "data_dict = {\n",
        "    'currency': [\n",
        "        ['PLN', 'USD'],\n",
        "        ['EUR', 'USD', 'PLN', 'CAD'],\n",
        "        ['GBP'],\n",
        "        ['JPY', 'CZK', 'HUF'],\n",
        "        [],\n",
        "    ]\n",
        "}\n",
        "#Moje rozwiązanie\n",
        "df = pd.DataFrame(data=data_dict)\n",
        "df['PLN flag'] = df['currency'].apply(myFunction)\n",
        "print(df)\n",
        "\n",
        "#Podane rozwiązanie\n",
        "df['PLN_flag'] = df['currency'].apply(\n",
        "    lambda array: 1 if 'PLN' in array else 0)\n",
        "print(df)"
      ],
      "metadata": {
        "colab": {
          "base_uri": "https://localhost:8080/"
        },
        "id": "bBAbf6SXGGhf",
        "outputId": "eb300499-1b2c-499a-bc31-91821693b95f"
      },
      "execution_count": 195,
      "outputs": [
        {
          "output_type": "stream",
          "name": "stdout",
          "text": [
            "               currency  PLN flag\n",
            "0            [PLN, USD]       1.0\n",
            "1  [EUR, USD, PLN, CAD]       0.0\n",
            "2                 [GBP]       0.0\n",
            "3       [JPY, CZK, HUF]       0.0\n",
            "4                    []       NaN\n",
            "               currency  PLN flag  PLN_flag\n",
            "0            [PLN, USD]       1.0         1\n",
            "1  [EUR, USD, PLN, CAD]       0.0         1\n",
            "2                 [GBP]       0.0         0\n",
            "3       [JPY, CZK, HUF]       0.0         0\n",
            "4                    []       NaN         0\n"
          ]
        }
      ]
    },
    {
      "cell_type": "markdown",
      "source": [
        "###Ex 14"
      ],
      "metadata": {
        "id": "VsUXnr5cJEPQ"
      }
    },
    {
      "cell_type": "code",
      "source": [
        "import pandas as pd\n",
        "\n",
        "\n",
        "df = pd.DataFrame(\n",
        "    data={\n",
        "        'hashtags': [\n",
        "            '#good#vibes',\n",
        "            '#hot#summer#holiday',\n",
        "            '#street#food',\n",
        "            '#workout',\n",
        "        ]\n",
        "    }\n",
        ")\n",
        "df = df['hashtags'].str.split(pat='#', expand=True)\n",
        "df = df.drop(columns=[0])\n",
        "df.columns = ['hashtag1', 'hashtag2', 'hashtag3']\n",
        "print(df)"
      ],
      "metadata": {
        "colab": {
          "base_uri": "https://localhost:8080/"
        },
        "id": "LfXBXOZaJElf",
        "outputId": "a58b4fc7-7b64-47e5-ad2c-50129f5ba0cc"
      },
      "execution_count": 196,
      "outputs": [
        {
          "output_type": "stream",
          "name": "stdout",
          "text": [
            "  hashtag1 hashtag2 hashtag3\n",
            "0     good    vibes     None\n",
            "1      hot   summer  holiday\n",
            "2   street     food     None\n",
            "3  workout     None     None\n"
          ]
        }
      ]
    },
    {
      "cell_type": "markdown",
      "source": [
        "###Ex 15"
      ],
      "metadata": {
        "id": "c6m52lyYNUP-"
      }
    },
    {
      "cell_type": "code",
      "source": [
        "import pandas as pd\n",
        "\n",
        "\n",
        "df = pd.DataFrame(\n",
        "    data={\n",
        "        'hashtags': [\n",
        "            '#good#vibes',\n",
        "            '#hot#summer#holiday',\n",
        "            '#street#food',\n",
        "            '#workout',\n",
        "        ]\n",
        "    }\n",
        ")\n",
        "#Moje rozwiązanie\n",
        "\"\"\"\n",
        "missing = df['hashtags'].apply(lambda hashtag: 3 - hashtag.count('#'))\n",
        "df = df['hashtags'].str.split('#', expand=True)\n",
        "df['missing'] = missing\n",
        "df = df.drop(columns=[0])\n",
        "df.columns = ['hashtag1', 'hashtag2', 'hashtag3', 'missing']\n",
        "print(df)\n",
        "\"\"\"\n",
        "\n",
        "#Podane rozwiązanie\n",
        "df = df['hashtags'].str.split('#', expand=True)\n",
        "df = df.drop(columns=[0])\n",
        "df.columns = ['hashtag1', 'hashtag2', 'hashtag3']\n",
        "df['missing'] = df.isnull().sum(axis=1)\n",
        "print(df)"
      ],
      "metadata": {
        "colab": {
          "base_uri": "https://localhost:8080/"
        },
        "id": "rYA6gKsCNUXs",
        "outputId": "fb89cbfc-28d9-4016-f427-e7cc13cd1f01"
      },
      "execution_count": 197,
      "outputs": [
        {
          "output_type": "stream",
          "name": "stdout",
          "text": [
            "  hashtag1 hashtag2 hashtag3  missing\n",
            "0     good    vibes     None        1\n",
            "1      hot   summer  holiday        0\n",
            "2   street     food     None        1\n",
            "3  workout     None     None        2\n"
          ]
        }
      ]
    },
    {
      "cell_type": "markdown",
      "source": [
        "###Ex 16"
      ],
      "metadata": {
        "id": "rZviXDKPQkWw"
      }
    },
    {
      "cell_type": "code",
      "source": [
        "import pandas as pd\n",
        "df = pd.DataFrame(\n",
        "    data={\n",
        "        'investments': [\n",
        "            '100_000_000',\n",
        "            '100_000',\n",
        "            '30_000_000',\n",
        "            '100_500_000',\n",
        "        ]\n",
        "    }\n",
        ")\n",
        "df['investments'] = df['investments'].apply(lambda x: int(x.replace('_','')))\n",
        "print(df)"
      ],
      "metadata": {
        "colab": {
          "base_uri": "https://localhost:8080/"
        },
        "id": "ZO9iqOEGQkh8",
        "outputId": "037d9a4d-6858-4202-c843-b0f4555c68df"
      },
      "execution_count": 198,
      "outputs": [
        {
          "output_type": "stream",
          "name": "stdout",
          "text": [
            "   investments\n",
            "0    100000000\n",
            "1       100000\n",
            "2     30000000\n",
            "3    100500000\n"
          ]
        }
      ]
    },
    {
      "cell_type": "markdown",
      "source": [
        "###Ex 17"
      ],
      "metadata": {
        "id": "S5ZHPyavYhef"
      }
    },
    {
      "cell_type": "code",
      "source": [
        "from sklearn.datasets import load_iris\n",
        "\n",
        "data = load_iris()\n",
        "print(data.keys())"
      ],
      "metadata": {
        "colab": {
          "base_uri": "https://localhost:8080/"
        },
        "id": "JNc_dG_RYhlv",
        "outputId": "6e45c43b-03ca-4d2f-c317-bb113f74e23e"
      },
      "execution_count": 199,
      "outputs": [
        {
          "output_type": "stream",
          "name": "stdout",
          "text": [
            "dict_keys(['data', 'target', 'frame', 'target_names', 'DESCR', 'feature_names', 'filename', 'data_module'])\n"
          ]
        }
      ]
    },
    {
      "cell_type": "markdown",
      "source": [
        "###Ex 18"
      ],
      "metadata": {
        "id": "u8BC1eiJYy6i"
      }
    },
    {
      "cell_type": "code",
      "source": [
        "from sklearn.datasets import load_iris\n",
        "\n",
        "\n",
        "data = load_iris()\n",
        "print(data.feature_names)\n",
        "print(data.target_names)"
      ],
      "metadata": {
        "colab": {
          "base_uri": "https://localhost:8080/"
        },
        "id": "mJ4kv761YzCI",
        "outputId": "35de8bac-eb21-41fe-e67c-3ccd00c92c9b"
      },
      "execution_count": 202,
      "outputs": [
        {
          "output_type": "stream",
          "name": "stdout",
          "text": [
            "['sepal length (cm)', 'sepal width (cm)', 'petal length (cm)', 'petal width (cm)']\n",
            "['setosa' 'versicolor' 'virginica']\n"
          ]
        }
      ]
    },
    {
      "cell_type": "markdown",
      "source": [
        "### Ex 19"
      ],
      "metadata": {
        "id": "yQy0JLTFZTFM"
      }
    },
    {
      "cell_type": "code",
      "source": [
        "from sklearn.datasets import load_iris\n",
        "\n",
        "\n",
        "data_raw = load_iris()\n",
        "data = data_raw['data']\n",
        "target = data_raw['target']\n",
        "\n",
        "print(data.shape)\n",
        "print(target.shape)"
      ],
      "metadata": {
        "colab": {
          "base_uri": "https://localhost:8080/"
        },
        "id": "pdt5GiSYZTMe",
        "outputId": "30d0c16f-c383-4e24-ecd3-e75597f02d4a"
      },
      "execution_count": 206,
      "outputs": [
        {
          "output_type": "stream",
          "name": "stdout",
          "text": [
            "(150, 4)\n",
            "(150,)\n"
          ]
        }
      ]
    },
    {
      "cell_type": "markdown",
      "source": [
        "###Ex 20"
      ],
      "metadata": {
        "id": "bU0hNqZTZ-iE"
      }
    },
    {
      "cell_type": "code",
      "source": [
        "from sklearn.datasets import load_iris\n",
        "from sklearn.model_selection import train_test_split\n",
        "\n",
        "\n",
        "data_raw = load_iris()\n",
        "data = data_raw['data']\n",
        "target = data_raw['target']\n",
        "data_train, data_test, target_train, target_test = train_test_split(data, target, test_size=0.3)\n",
        "print(data_train.size)"
      ],
      "metadata": {
        "id": "ylu4BDQTaADz"
      },
      "execution_count": 208,
      "outputs": []
    }
  ]
}