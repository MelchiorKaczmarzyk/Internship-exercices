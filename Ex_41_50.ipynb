{
  "nbformat": 4,
  "nbformat_minor": 0,
  "metadata": {
    "colab": {
      "provenance": [],
      "authorship_tag": "ABX9TyMzu//oJLt0LyJNRvFBKvf4",
      "include_colab_link": true
    },
    "kernelspec": {
      "name": "python3",
      "display_name": "Python 3"
    },
    "language_info": {
      "name": "python"
    }
  },
  "cells": [
    {
      "cell_type": "markdown",
      "metadata": {
        "id": "view-in-github",
        "colab_type": "text"
      },
      "source": [
        "<a href=\"https://colab.research.google.com/github/MelchiorKaczmarzyk/Internship-exercices/blob/main/Ex_41_50.ipynb\" target=\"_parent\"><img src=\"https://colab.research.google.com/assets/colab-badge.svg\" alt=\"Open In Colab\"/></a>"
      ]
    },
    {
      "cell_type": "markdown",
      "source": [
        "###Ex 41"
      ],
      "metadata": {
        "id": "Ra3gb_HhzMap"
      }
    },
    {
      "cell_type": "code",
      "execution_count": 3,
      "metadata": {
        "colab": {
          "base_uri": "https://localhost:8080/"
        },
        "id": "VSS6oyryzIBB",
        "outputId": "7e37829f-3b6f-4a00-80bf-bc5c488e5475"
      },
      "outputs": [
        {
          "output_type": "stream",
          "name": "stdout",
          "text": [
            "       var1  var_sigmoid\n",
            "0  0.496714     0.378313\n",
            "1 -0.138264     0.534511\n",
            "2  0.647689     0.343511\n",
            "3  1.523030     0.179016\n",
            "4 -0.234153     0.558272\n",
            "5 -0.234137     0.558268\n",
            "6  1.579213     0.170907\n",
            "7  0.767435     0.317034\n",
            "8 -0.469474     0.615259\n",
            "9  0.542560     0.367592\n"
          ]
        }
      ],
      "source": [
        "import numpy as np\n",
        "import pandas as pd\n",
        "import math\n",
        "\n",
        "def sigmoid(x):\n",
        "  return 1 / (1 + (math.e ** x))\n",
        "\n",
        "np.random.seed(42)\n",
        "df = pd.DataFrame(data=np.random.randn(10), columns=['var1'])\n",
        "df['var_sigmoid'] = df['var1'].apply(sigmoid)\n",
        "print(df)"
      ]
    },
    {
      "cell_type": "markdown",
      "source": [
        "###Ex 42"
      ],
      "metadata": {
        "id": "gLz6ndXNzOzx"
      }
    },
    {
      "cell_type": "code",
      "source": [
        "import numpy as np\n",
        "import pandas as pd\n",
        "from sklearn.preprocessing import StandardScaler\n",
        "\n",
        "np.set_printoptions(precision=4, suppress=True)\n",
        "df = pd.read_csv(\"data.csv\")\n",
        "scaler = StandardScaler()\n",
        "df = scaler.fit_transform(df)\n",
        "print(df)"
      ],
      "metadata": {
        "id": "LyyO6wx7zPOj"
      },
      "execution_count": null,
      "outputs": []
    },
    {
      "cell_type": "markdown",
      "source": [
        "###Ex 43"
      ],
      "metadata": {
        "id": "etM1Yu4HzPW1"
      }
    },
    {
      "cell_type": "code",
      "source": [
        "import numpy as np\n",
        "import pandas as pd\n",
        "from sklearn.preprocessing import StandardScaler\n",
        "\n",
        "\n",
        "np.set_printoptions(precision=4, suppress=True)\n",
        "\n",
        "X_train = pd.read_csv('X_train.csv')\n",
        "X_test = pd.read_csv('X_test.csv')\n",
        "scaler = StandardScaler()\n",
        "scaler.fit(X_train)\n",
        "X_train = scaler.transform(X_train)\n",
        "X_test = scaler.transform(X_test)\n",
        "print(X_train[:5])\n",
        "print(X_test[:5])"
      ],
      "metadata": {
        "id": "T2HXYC89zPme"
      },
      "execution_count": null,
      "outputs": []
    },
    {
      "cell_type": "markdown",
      "source": [
        "###Ex 44"
      ],
      "metadata": {
        "id": "CqHQlrzAzQR-"
      }
    },
    {
      "cell_type": "code",
      "source": [
        "import numpy as np\n",
        "import pandas as pd\n",
        "\n",
        "\n",
        "def entropy(x):\n",
        "    return np.round(-np.sum(x * np.log2(x)), 4)\n",
        "\n",
        "\n",
        "df = pd.DataFrame(\n",
        "    {\n",
        "        'val_1': np.arange(0.01, 1.0, 0.1),\n",
        "        'val_2': 1 - np.arange(0.01, 1.0, 0.1),\n",
        "    }\n",
        ")\n",
        "df['entropy'] = [\n",
        "    entropy([row[1][0], row[1][1]]) for row in df.iterrows()\n",
        "]\n",
        "print(df)"
      ],
      "metadata": {
        "id": "NLVMnU6VzQZF"
      },
      "execution_count": null,
      "outputs": []
    },
    {
      "cell_type": "markdown",
      "source": [
        "###Ex 45"
      ],
      "metadata": {
        "id": "JA9M8glmzQgG"
      }
    },
    {
      "cell_type": "code",
      "source": [
        "import numpy as np\n",
        "import pandas as pd\n",
        "from sklearn.metrics import accuracy_score\n",
        "\n",
        "predictions = pd.read_csv('predictions.csv')\n",
        "acc = accuracy_score(predictions['y_true'], predictions['y_pred'])\n",
        "print(f'Accuracy: {acc:.4f}')"
      ],
      "metadata": {
        "id": "lxJp-HmyzQmD"
      },
      "execution_count": null,
      "outputs": []
    },
    {
      "cell_type": "markdown",
      "source": [
        "###Ex 46"
      ],
      "metadata": {
        "id": "PNin4xF0zQsK"
      }
    },
    {
      "cell_type": "code",
      "source": [
        "import numpy as np\n",
        "import pandas as pd\n",
        "from sklearn.metrics import confusion_matrix\n",
        "\n",
        "predictions = pd.read_csv('predictions.csv')\n",
        "\n",
        "print(confusion_matrix(predictions['y_true'], predictions['y_pred']))"
      ],
      "metadata": {
        "id": "-0Z0L3qCzQyL"
      },
      "execution_count": null,
      "outputs": []
    },
    {
      "cell_type": "markdown",
      "source": [
        "###Ex 47"
      ],
      "metadata": {
        "id": "bH28mYzOzQ3q"
      }
    },
    {
      "cell_type": "code",
      "source": [
        "import numpy as np\n",
        "import pandas as pd\n",
        "\n",
        "from sklearn.datasets import make_moons\n",
        "from sklearn.model_selection import train_test_split\n",
        "from sklearn.tree import DecisionTreeClassifier\n",
        "\n",
        "\n",
        "np.random.seed(42)\n",
        "raw_data = make_moons(n_samples=2000, noise=0.25, random_state=42)\n",
        "data = raw_data[0]\n",
        "target = raw_data[1]\n",
        "\n",
        "X_train, X_test, y_train, y_test = train_test_split(data, target)\n",
        "\n",
        "model = DecisionTreeClassifier()\n",
        "\n",
        "model.fit(X_train, y_train)\n",
        "model.predict(X_test)\n",
        "print(f'Accuracy: {model.score(X_test, y_test):.4f}')"
      ],
      "metadata": {
        "colab": {
          "base_uri": "https://localhost:8080/"
        },
        "id": "VvMp3vmtzQ9O",
        "outputId": "9a223bee-f144-4ac6-e5ff-fa8e77507f7f"
      },
      "execution_count": 10,
      "outputs": [
        {
          "output_type": "stream",
          "name": "stdout",
          "text": [
            "Accuracy: 0.9020\n"
          ]
        }
      ]
    },
    {
      "cell_type": "markdown",
      "source": [
        "###Ex 48"
      ],
      "metadata": {
        "id": "YZZqERjrzRCX"
      }
    },
    {
      "cell_type": "code",
      "source": [
        "import numpy as np\n",
        "import pandas as pd\n",
        "\n",
        "from sklearn.datasets import make_moons\n",
        "from sklearn.model_selection import train_test_split\n",
        "from sklearn.tree import DecisionTreeClassifier\n",
        "\n",
        "\n",
        "np.random.seed(42)\n",
        "raw_data = make_moons(n_samples=2000, noise=0.25, random_state=42)\n",
        "data = raw_data[0]\n",
        "target = raw_data[1]\n",
        "\n",
        "X_train, X_test, y_train, y_test = train_test_split(data, target)\n",
        "\n",
        "model = DecisionTreeClassifier(max_depth=6)\n",
        "\n",
        "model.fit(X_train, y_train)\n",
        "model.predict(X_test)\n",
        "print(f'Accuracy: {model.score(X_test, y_test):.4f}')"
      ],
      "metadata": {
        "colab": {
          "base_uri": "https://localhost:8080/"
        },
        "id": "76H8aVx_zRI3",
        "outputId": "951fb68a-ccab-442a-a7ca-30eb37ca28d8"
      },
      "execution_count": 11,
      "outputs": [
        {
          "output_type": "stream",
          "name": "stdout",
          "text": [
            "Accuracy: 0.9280\n"
          ]
        }
      ]
    },
    {
      "cell_type": "markdown",
      "source": [
        "###Ex 49"
      ],
      "metadata": {
        "id": "29jdGQoOzRPG"
      }
    },
    {
      "cell_type": "code",
      "source": [
        "import numpy as np\n",
        "import pandas as pd\n",
        "\n",
        "from sklearn.datasets import make_moons\n",
        "from sklearn.model_selection import train_test_split\n",
        "from sklearn.tree import DecisionTreeClassifier\n",
        "\n",
        "\n",
        "np.random.seed(42)\n",
        "raw_data = make_moons(n_samples=2000, noise=0.25, random_state=42)\n",
        "data = raw_data[0]\n",
        "target = raw_data[1]\n",
        "\n",
        "X_train, X_test, y_train, y_test = train_test_split(data, target)\n",
        "\n",
        "model = DecisionTreeClassifier(min_samples_leaf=6, max_depth=6)\n",
        "\n",
        "model.fit(X_train, y_train)\n",
        "model.predict(X_test)\n",
        "print(f'Accuracy: {model.score(X_test, y_test):.4f}')"
      ],
      "metadata": {
        "colab": {
          "base_uri": "https://localhost:8080/"
        },
        "id": "TC4ubGLazRV-",
        "outputId": "16d7ab04-e586-47d8-ab15-538e52254e91"
      },
      "execution_count": 12,
      "outputs": [
        {
          "output_type": "stream",
          "name": "stdout",
          "text": [
            "Accuracy: 0.9300\n"
          ]
        }
      ]
    },
    {
      "cell_type": "markdown",
      "source": [
        "###Ex 50"
      ],
      "metadata": {
        "id": "uDGN1moZzRcH"
      }
    },
    {
      "cell_type": "code",
      "source": [
        "import numpy as np\n",
        "import pandas as pd\n",
        "\n",
        "from sklearn.datasets import make_moons\n",
        "from sklearn.model_selection import train_test_split\n",
        "from sklearn.tree import DecisionTreeClassifier\n",
        "from sklearn.model_selection import GridSearchCV\n",
        "\n",
        "\n",
        "np.random.seed(42)\n",
        "raw_data = make_moons(n_samples=2000, noise=0.25, random_state=42)\n",
        "data = raw_data[0]\n",
        "target = raw_data[1]\n",
        "\n",
        "X_train, X_test, y_train, y_test = train_test_split(data, target)\n",
        "\n",
        "classifier = DecisionTreeClassifier()\n",
        "\n",
        "params = {\n",
        "    'max_depth': np.arange(1, 10),\n",
        "    'min_samples_leaf': [1, 2, 3, 4, 5, 6, 7, 8, 9, 10, 15, 20],\n",
        "}\n",
        "\n",
        "grid_search = GridSearchCV(\n",
        "    classifier, param_grid=params, scoring='accuracy', cv=5\n",
        ")\n",
        "grid_search.fit(X_train, y_train)\n",
        "print(grid_search.best_params_)"
      ],
      "metadata": {
        "colab": {
          "base_uri": "https://localhost:8080/"
        },
        "id": "nqzQnNhzzRrD",
        "outputId": "1ebd1c45-264b-4742-fd9e-fa8a0759ac58"
      },
      "execution_count": 15,
      "outputs": [
        {
          "output_type": "stream",
          "name": "stdout",
          "text": [
            "{'max_depth': 6, 'min_samples_leaf': 6}\n"
          ]
        }
      ]
    }
  ]
}