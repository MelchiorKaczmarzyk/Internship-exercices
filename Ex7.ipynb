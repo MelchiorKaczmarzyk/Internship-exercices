{
  "nbformat": 4,
  "nbformat_minor": 0,
  "metadata": {
    "colab": {
      "provenance": [],
      "authorship_tag": "ABX9TyMDJce9XXffAY4Lfxex6fiR",
      "include_colab_link": true
    },
    "kernelspec": {
      "name": "python3",
      "display_name": "Python 3"
    },
    "language_info": {
      "name": "python"
    }
  },
  "cells": [
    {
      "cell_type": "markdown",
      "metadata": {
        "id": "view-in-github",
        "colab_type": "text"
      },
      "source": [
        "<a href=\"https://colab.research.google.com/github/MelchiorKaczmarzyk/Internship-exercices/blob/main/Ex7.ipynb\" target=\"_parent\"><img src=\"https://colab.research.google.com/assets/colab-badge.svg\" alt=\"Open In Colab\"/></a>"
      ]
    },
    {
      "cell_type": "code",
      "execution_count": 4,
      "metadata": {
        "colab": {
          "base_uri": "https://localhost:8080/"
        },
        "id": "K16R4pyr5r3J",
        "outputId": "4509c05a-77e8-440a-9325-d694a383f2a6"
      },
      "outputs": [
        {
          "output_type": "stream",
          "name": "stdout",
          "text": [
            "[['XL' 'red' 'female' 'yes']\n",
            " ['L' 'green' 'male' 'no']\n",
            " ['M' 'blue' 'empty' 'yes']\n",
            " ['empty' 'green' 'female' 'no']\n",
            " ['M' 'red' 'female' 'yes']\n",
            " ['M' 'green' 'male' 'no']]\n",
            "    size  color  gender bought\n",
            "0     XL    red  female    yes\n",
            "1      L  green    male     no\n",
            "2      M   blue   empty    yes\n",
            "3  empty  green  female     no\n",
            "4      M    red  female    yes\n",
            "5      M  green    male     no\n"
          ]
        }
      ],
      "source": [
        "import numpy as np\n",
        "import pandas as pd\n",
        "from sklearn.impute import SimpleImputer\n",
        "\n",
        "\n",
        "data = {\n",
        "    'size': ['XL', 'L', 'M', np.nan, 'M', 'M'],\n",
        "    'color': ['red', 'green', 'blue', 'green', 'red', 'green'],\n",
        "    'gender': ['female', 'male', np.nan, 'female', 'female', 'male'],\n",
        "    'price': [199.0, 89.0, np.nan, 129.0, 79.0, 89.0],\n",
        "    'weight': [500, 450, 300, np.nan, 410, np.nan],\n",
        "    'bought': ['yes', 'no', 'yes', 'no', 'yes', 'no']\n",
        "}\n",
        "\n",
        "#Ja bym tak zrobił\n",
        "df = pd.DataFrame(data=data)\n",
        "df_object = df.select_dtypes(include='object')\n",
        "imputer = SimpleImputer(missing_values=np.nan, strategy='constant', fill_value='empty')\n",
        "df_object = imputer.fit_transform(df_object)\n",
        "print(df_object)\n",
        "\n",
        "#W rozwiązaniu jest tak\n",
        "df = pd.DataFrame(data=data)\n",
        "df_object = df.select_dtypes(include=['object']).fillna('empty')\n",
        "print(df_object)"
      ]
    }
  ]
}