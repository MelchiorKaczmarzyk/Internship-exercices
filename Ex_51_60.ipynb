{
  "nbformat": 4,
  "nbformat_minor": 0,
  "metadata": {
    "colab": {
      "provenance": [],
      "authorship_tag": "ABX9TyPWa2Tgm6POolMGJC4Hnao8",
      "include_colab_link": true
    },
    "kernelspec": {
      "name": "python3",
      "display_name": "Python 3"
    },
    "language_info": {
      "name": "python"
    }
  },
  "cells": [
    {
      "cell_type": "markdown",
      "metadata": {
        "id": "view-in-github",
        "colab_type": "text"
      },
      "source": [
        "<a href=\"https://colab.research.google.com/github/MelchiorKaczmarzyk/Internship-exercices/blob/main/Ex_51_60.ipynb\" target=\"_parent\"><img src=\"https://colab.research.google.com/assets/colab-badge.svg\" alt=\"Open In Colab\"/></a>"
      ]
    },
    {
      "cell_type": "markdown",
      "source": [
        "###Ex 51"
      ],
      "metadata": {
        "id": "ZCz8CWCtAiLb"
      }
    },
    {
      "cell_type": "code",
      "execution_count": 2,
      "metadata": {
        "colab": {
          "base_uri": "https://localhost:8080/"
        },
        "id": "UW05MiT-AeHk",
        "outputId": "d52febea-7c3f-4ddd-d6f1-62f7c517935e"
      },
      "outputs": [
        {
          "output_type": "stream",
          "name": "stdout",
          "text": [
            "Accuracy: 0.9300\n"
          ]
        }
      ],
      "source": [
        "import numpy as np\n",
        "import pandas as pd\n",
        "\n",
        "from sklearn.datasets import make_moons\n",
        "from sklearn.model_selection import train_test_split\n",
        "from sklearn.ensemble import RandomForestClassifier\n",
        "\n",
        "\n",
        "np.random.seed(42)\n",
        "raw_data = make_moons(n_samples=2000, noise=0.25, random_state=42)\n",
        "data = raw_data[0]\n",
        "target = raw_data[1]\n",
        "\n",
        "X_train, X_test, y_train, y_test = train_test_split(data, target)\n",
        "\n",
        "model = RandomForestClassifier(random_state=42)\n",
        "model.fit(X_train, y_train)\n",
        "model.predict(X_test)\n",
        "lol = model.score(X_test, y_test)\n",
        "print(f\"Accuracy: {lol:.4f}\")"
      ]
    },
    {
      "cell_type": "markdown",
      "source": [
        "###Ex 52"
      ],
      "metadata": {
        "id": "VGIyPQ25B1wO"
      }
    },
    {
      "cell_type": "code",
      "source": [
        "import numpy as np\n",
        "import pandas as pd\n",
        "\n",
        "from sklearn.datasets import make_moons\n",
        "from sklearn.model_selection import train_test_split\n",
        "from sklearn.ensemble import RandomForestClassifier\n",
        "from sklearn.model_selection import GridSearchCV\n",
        "\n",
        "\n",
        "np.random.seed(42)\n",
        "raw_data = make_moons(n_samples=2000, noise=0.25, random_state=42)\n",
        "data = raw_data[0]\n",
        "target = raw_data[1]\n",
        "\n",
        "X_train, X_test, y_train, y_test = train_test_split(data, target)\n",
        "model = RandomForestClassifier(random_state = 42)\n",
        "params = {\n",
        "    'criterion': ['gini', 'entropy'],\n",
        "    'max_depth': [6,7],\n",
        "    'min_samples_leaf': [4,5]\n",
        "}\n",
        "\n",
        "gridSearch = GridSearchCV(model, param_grid = params, scoring='accuracy', cv=5)\n",
        "\n",
        "gridSearch.fit(X_train, y_train)\n",
        "print(gridSearch.best_params_)"
      ],
      "metadata": {
        "colab": {
          "base_uri": "https://localhost:8080/"
        },
        "id": "BNmnAPtPB15c",
        "outputId": "d9e18aaf-7083-46aa-e4df-8e6be8946ae9"
      },
      "execution_count": 5,
      "outputs": [
        {
          "output_type": "stream",
          "name": "stdout",
          "text": [
            "{'criterion': 'entropy', 'max_depth': 7, 'min_samples_leaf': 5}\n"
          ]
        }
      ]
    },
    {
      "cell_type": "markdown",
      "source": [
        "###Ex 53"
      ],
      "metadata": {
        "id": "If44ANDMEwTx"
      }
    },
    {
      "cell_type": "code",
      "source": [
        "import numpy as np\n",
        "import pandas as pd\n",
        "\n",
        "from sklearn.feature_extraction.text import CountVectorizer\n",
        "\n",
        "\n",
        "documents = [\n",
        "    'python is a programming language',\n",
        "    'python is popular',\n",
        "    'programming in python',\n",
        "    'object-oriented programming in python',\n",
        "]\n",
        "\n",
        "vectorizer = CountVectorizer()\n",
        "\n",
        "df = pd.DataFrame(\n",
        "    data=vectorizer.fit_transform(documents).toarray(),\n",
        "    columns=vectorizer.get_feature_names_out(),\n",
        ")\n",
        "print(df)"
      ],
      "metadata": {
        "colab": {
          "base_uri": "https://localhost:8080/"
        },
        "id": "GaBFmqVzEwfE",
        "outputId": "5d470e37-e9b4-429d-f973-e3da1c8666aa"
      },
      "execution_count": 13,
      "outputs": [
        {
          "output_type": "stream",
          "name": "stdout",
          "text": [
            "   in  is  language  object  oriented  popular  programming  python\n",
            "0   0   1         1       0         0        0            1       1\n",
            "1   0   1         0       0         0        1            0       1\n",
            "2   1   0         0       0         0        0            1       1\n",
            "3   1   0         0       1         1        0            1       1\n"
          ]
        }
      ]
    },
    {
      "cell_type": "markdown",
      "source": [
        "###Ex 54"
      ],
      "metadata": {
        "id": "PTkrOK1IGr4y"
      }
    },
    {
      "cell_type": "code",
      "source": [
        "import numpy as np\n",
        "import pandas as pd\n",
        "\n",
        "from sklearn.feature_extraction.text import CountVectorizer\n",
        "\n",
        "\n",
        "documents = [\n",
        "    'python is a programming language',\n",
        "    'python is popular',\n",
        "    'programming in python',\n",
        "    'object-oriented programming in python',\n",
        "]\n",
        "\n",
        "vectorizer = CountVectorizer(stop_words='english')\n",
        "\n",
        "df = pd.DataFrame(\n",
        "    data=vectorizer.fit_transform(documents).toarray(),\n",
        "    columns=vectorizer.get_feature_names_out(),\n",
        ")\n",
        "print(df)"
      ],
      "metadata": {
        "colab": {
          "base_uri": "https://localhost:8080/"
        },
        "id": "U8OWunPTGsAr",
        "outputId": "80a25eff-b4f9-431a-c40a-eba82308c0cd"
      },
      "execution_count": 14,
      "outputs": [
        {
          "output_type": "stream",
          "name": "stdout",
          "text": [
            "   language  object  oriented  popular  programming  python\n",
            "0         1       0         0        0            1       1\n",
            "1         0       0         0        1            0       1\n",
            "2         0       0         0        0            1       1\n",
            "3         0       1         1        0            1       1\n"
          ]
        }
      ]
    },
    {
      "cell_type": "markdown",
      "source": [
        "###Ex 55"
      ],
      "metadata": {
        "id": "a5ZT9lhcHbof"
      }
    },
    {
      "cell_type": "code",
      "source": [
        "import numpy as np\n",
        "import pandas as pd\n",
        "\n",
        "from sklearn.feature_extraction.text import CountVectorizer\n",
        "\n",
        "pd.set_option('display.width', 200)\n",
        "pd.set_option('display.max_columns', 20)\n",
        "documents = [\n",
        "    'python is a programming language',\n",
        "    'python is popular',\n",
        "    'programming in python',\n",
        "    'object-oriented programming in python',\n",
        "    'programming language',\n",
        "]\n",
        "\n",
        "vectorizer = CountVectorizer(stop_words='english', ngram_range=(1,2))\n",
        "\n",
        "df = pd.DataFrame(\n",
        "    data=vectorizer.fit_transform(documents).toarray(),\n",
        "    columns=vectorizer.get_feature_names_out(),\n",
        ")\n",
        "print(df)"
      ],
      "metadata": {
        "colab": {
          "base_uri": "https://localhost:8080/"
        },
        "id": "j8xruEW-HbwE",
        "outputId": "e0127ed7-3329-4b92-b04a-285f0ddefe67"
      },
      "execution_count": 22,
      "outputs": [
        {
          "output_type": "stream",
          "name": "stdout",
          "text": [
            "   language  object  object oriented  oriented  oriented programming  popular  programming  programming language  programming python  python  python popular  python programming\n",
            "0         1       0                0         0                     0        0            1                     1                   0       1               0                   1\n",
            "1         0       0                0         0                     0        1            0                     0                   0       1               1                   0\n",
            "2         0       0                0         0                     0        0            1                     0                   1       1               0                   0\n",
            "3         0       1                1         1                     1        0            1                     0                   1       1               0                   0\n",
            "4         1       0                0         0                     0        0            1                     1                   0       0               0                   0\n"
          ]
        }
      ]
    },
    {
      "cell_type": "markdown",
      "source": [
        "###Ex 56"
      ],
      "metadata": {
        "id": "BbVE-PCVIgUI"
      }
    },
    {
      "cell_type": "code",
      "source": [
        "import numpy as np\n",
        "import pandas as pd\n",
        "\n",
        "from sklearn.feature_extraction.text import TfidfVectorizer\n",
        "\n",
        "\n",
        "pd.set_option('display.width', 200)\n",
        "pd.set_option('display.max_columns', 10)\n",
        "documents = [\n",
        "    'python is a programming language',\n",
        "    'python is popular',\n",
        "    'programming in python',\n",
        "    'object-oriented programming in python',\n",
        "    'programming language'\n",
        "]\n",
        "\n",
        "vectorizer = TfidfVectorizer()\n",
        "\n",
        "df = pd.DataFrame(\n",
        "    data=vectorizer.fit_transform(documents).toarray(),\n",
        "    columns=vectorizer.get_feature_names_out(),\n",
        ")\n",
        "print(df)"
      ],
      "metadata": {
        "colab": {
          "base_uri": "https://localhost:8080/"
        },
        "id": "E6gGaxCGIgbk",
        "outputId": "cf288629-daff-4860-c9ed-2fa462223a1b"
      },
      "execution_count": 21,
      "outputs": [
        {
          "output_type": "stream",
          "name": "stdout",
          "text": [
            "         in        is  language    object  oriented   popular  programming    python\n",
            "0  0.000000  0.579748  0.579748  0.000000  0.000000  0.000000     0.404837  0.404837\n",
            "1  0.000000  0.575063  0.000000  0.000000  0.000000  0.712775     0.000000  0.401565\n",
            "2  0.711525  0.000000  0.000000  0.000000  0.000000  0.000000     0.496856  0.496856\n",
            "3  0.445090  0.000000  0.000000  0.551677  0.551677  0.000000     0.310805  0.310805\n",
            "4  0.000000  0.000000  0.819887  0.000000  0.000000  0.000000     0.572526  0.000000\n"
          ]
        }
      ]
    },
    {
      "cell_type": "markdown",
      "source": [
        "###Ex 57"
      ],
      "metadata": {
        "id": "scjmzKuDNSq2"
      }
    },
    {
      "cell_type": "code",
      "source": [
        "import numpy as np\n",
        "import pandas as pd\n",
        "\n",
        "from sklearn.feature_extraction.text import TfidfVectorizer\n",
        "\n",
        "\n",
        "pd.set_option('display.width', 200)\n",
        "pd.set_option('display.max_columns', 10)\n",
        "documents = [\n",
        "    'python is a programming language',\n",
        "    'python is popular',\n",
        "    'programming in python',\n",
        "    'object-oriented programming in python',\n",
        "    'programming language'\n",
        "]\n",
        "\n",
        "vectorizer = TfidfVectorizer(stop_words=['is', 'in'])\n",
        "\n",
        "df = pd.DataFrame(\n",
        "    data=vectorizer.fit_transform(documents).toarray(),\n",
        "    columns=vectorizer.get_feature_names_out(),\n",
        ")\n",
        "print(df)"
      ],
      "metadata": {
        "colab": {
          "base_uri": "https://localhost:8080/"
        },
        "id": "Ex46ai7LNTX9",
        "outputId": "b542ba20-f918-4b7a-f494-5e7ed26a9df8"
      },
      "execution_count": 23,
      "outputs": [
        {
          "output_type": "stream",
          "name": "stdout",
          "text": [
            "   language    object  oriented   popular  programming    python\n",
            "0  0.711525  0.000000  0.000000  0.000000     0.496856  0.496856\n",
            "1  0.000000  0.000000  0.000000  0.871247     0.000000  0.490845\n",
            "2  0.000000  0.000000  0.000000  0.000000     0.707107  0.707107\n",
            "3  0.000000  0.616065  0.616065  0.000000     0.347080  0.347080\n",
            "4  0.819887  0.000000  0.000000  0.000000     0.572526  0.000000\n"
          ]
        }
      ]
    },
    {
      "cell_type": "markdown",
      "source": [
        "###Ex 58"
      ],
      "metadata": {
        "id": "s1K-xfMmPhTu"
      }
    },
    {
      "cell_type": "code",
      "source": [
        "import numpy as np\n",
        "from numpy.linalg import norm\n",
        "import pandas as pd\n",
        "import random\n",
        "\n",
        "\n",
        "np.random.seed(42)\n",
        "df = pd.read_csv('data.csv')\n",
        "\n",
        "x1_min = df.x1.min()\n",
        "x1_max = df.x1.max()\n",
        "\n",
        "x2_min = df.x2.min()\n",
        "x2_max = df.x2.max()\n",
        "\n",
        "centroid_1 = np.array(\n",
        "    [random.uniform(x1_min, x1_max), random.uniform(x2_min, x2_max)]\n",
        ")\n",
        "centroid_2 = np.array(\n",
        "    [random.uniform(x1_min, x1_max), random.uniform(x2_min, x2_max)]\n",
        ")\n",
        "\n",
        "data = df.values\n",
        "\n",
        "for i in range(10):\n",
        "    clusters = []\n",
        "    for point in data:\n",
        "        centroid_1_dist = norm(centroid_1 - point)\n",
        "        centroid_2_dist = norm(centroid_2 - point)\n",
        "        cluster = 1\n",
        "        if centroid_1_dist > centroid_2_dist:\n",
        "            cluster = 2\n",
        "        clusters.append(cluster)\n",
        "\n",
        "    df['cluster'] = clusters\n",
        "\n",
        "    centroid_1 = [\n",
        "        round(df[df.cluster == 1].x1.mean(), 3),\n",
        "        round(df[df.cluster == 1].x2.mean(), 3),\n",
        "    ]\n",
        "    centroid_2 = [\n",
        "        round(df[df.cluster == 2].x1.mean(), 3),\n",
        "        round(df[df.cluster == 2].x2.mean(), 3),\n",
        "    ]\n",
        "\n",
        "print(centroid_1)\n",
        "print(centroid_2)"
      ],
      "metadata": {
        "id": "y8Q7fsGrPhgH"
      },
      "execution_count": null,
      "outputs": []
    },
    {
      "cell_type": "markdown",
      "source": [
        "###Ex 59"
      ],
      "metadata": {
        "id": "bpzwouD-R7zE"
      }
    },
    {
      "cell_type": "code",
      "source": [
        "import numpy as np\n",
        "import pandas as pd\n",
        "from sklearn.cluster import KMeans\n",
        "\n",
        "\n",
        "np.random.seed(42)\n",
        "df = pd.read_csv('clusters.csv')\n",
        "\n",
        "model = KMeans(n_clusters=3, max_iter=1000, random_state=42)\n",
        "model.fit(df)\n",
        "\n",
        "print(model.cluster_centers_)"
      ],
      "metadata": {
        "id": "zRTTioqhR76F"
      },
      "execution_count": null,
      "outputs": []
    },
    {
      "cell_type": "markdown",
      "source": [
        "###Ex 60"
      ],
      "metadata": {
        "id": "loDueI-jQ1Pq"
      }
    },
    {
      "cell_type": "code",
      "source": [
        "import numpy as np\n",
        "import pandas as pd\n",
        "from sklearn.cluster import KMeans\n",
        "\n",
        "\n",
        "np.random.seed(42)\n",
        "df = pd.read_csv('clusters.csv')\n",
        "\n",
        "model = KMeans(n_clusters=3, max_iter=1000, random_state=42)\n",
        "model.fit(df)\n",
        "df['y_kmeans'] = model.predict(df)\n",
        "print(df.head(10))"
      ],
      "metadata": {
        "id": "YworFbpZQ1V_"
      },
      "execution_count": 25,
      "outputs": []
    }
  ]
}